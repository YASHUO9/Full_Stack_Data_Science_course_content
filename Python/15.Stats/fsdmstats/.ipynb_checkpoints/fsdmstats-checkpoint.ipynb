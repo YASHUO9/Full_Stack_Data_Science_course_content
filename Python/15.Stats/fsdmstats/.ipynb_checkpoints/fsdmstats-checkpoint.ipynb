{
 "cells": [
  {
   "cell_type": "code",
   "execution_count": 21,
   "id": "91251374",
   "metadata": {},
   "outputs": [
    {
     "name": "stdout",
     "output_type": "stream",
     "text": [
      "[55, 59, 20, 36, 46, 29, 53, 65, 37, 57, 25]\n"
     ]
    }
   ],
   "source": [
    "import random\n",
    "\n",
    "# Initialize an empty list to store the random numbers\n",
    "data = []\n",
    "\n",
    "# Generate and store 11 random numbers between 20 and 70\n",
    "for _ in range(11):\n",
    "    random_number = random.randint(20, 70)\n",
    "    data.append(random_number)\n",
    "\n",
    "# Print the list of random numbers\n",
    "print(data)"
   ]
  },
  {
   "cell_type": "code",
   "execution_count": 22,
   "id": "d1819286",
   "metadata": {},
   "outputs": [],
   "source": [
    "data_copy=data.copy()"
   ]
  },
  {
   "cell_type": "code",
   "execution_count": 15,
   "id": "6cf1117c",
   "metadata": {},
   "outputs": [
    {
     "data": {
      "text/plain": [
       "'there are some library which you need to understand\\npandas\\nnumpy\\nmatplotlib and seaborn\\nstatsmodel scipy stastitics'"
      ]
     },
     "execution_count": 15,
     "metadata": {},
     "output_type": "execute_result"
    }
   ],
   "source": [
    "'''there are some library which you need to understand\n",
    "pandas\n",
    "numpy\n",
    "matplotlib and seaborn\n",
    "statsmodel scipy stastitics'''\n"
   ]
  },
  {
   "cell_type": "code",
   "execution_count": 16,
   "id": "c4e47e48",
   "metadata": {},
   "outputs": [
    {
     "data": {
      "text/plain": [
       "'descriptive stats\\ncentral tendency\\ndispersion\\ndata distributution\\n\\n\\ninferential stats'"
      ]
     },
     "execution_count": 16,
     "metadata": {},
     "output_type": "execute_result"
    }
   ],
   "source": [
    "'''descriptive stats\n",
    "central tendency\n",
    "dispersion\n",
    "data distributution\n",
    "\n",
    "\n",
    "inferential stats'''"
   ]
  },
  {
   "cell_type": "code",
   "execution_count": 18,
   "id": "fea00fce",
   "metadata": {},
   "outputs": [
    {
     "data": {
      "text/plain": [
       "'mean\\nmedian\\nmode'"
      ]
     },
     "execution_count": 18,
     "metadata": {},
     "output_type": "execute_result"
    }
   ],
   "source": [
    "\"\"\"mean\n",
    "median\n",
    "mode\"\"\"\n"
   ]
  },
  {
   "cell_type": "code",
   "execution_count": 23,
   "id": "580186c1",
   "metadata": {},
   "outputs": [
    {
     "data": {
      "text/plain": [
       "43.81818181818182"
      ]
     },
     "execution_count": 23,
     "metadata": {},
     "output_type": "execute_result"
    }
   ],
   "source": [
    "import numpy as np\n",
    "np.mean(data_copy)"
   ]
  },
  {
   "cell_type": "code",
   "execution_count": 24,
   "id": "cdf5c428",
   "metadata": {},
   "outputs": [
    {
     "data": {
      "text/plain": [
       "46.0"
      ]
     },
     "execution_count": 24,
     "metadata": {},
     "output_type": "execute_result"
    }
   ],
   "source": [
    "np.median(data_copy)"
   ]
  },
  {
   "cell_type": "code",
   "execution_count": null,
   "id": "00cfecb6",
   "metadata": {},
   "outputs": [],
   "source": [
    "#here is a task for you\n",
    "\n",
    "#calculate a mean for the sepal lenght\n",
    "\n",
    "np.mean(data2[\"sepallenght\"])"
   ]
  },
  {
   "cell_type": "code",
   "execution_count": 25,
   "id": "e4571690",
   "metadata": {},
   "outputs": [
    {
     "ename": "AttributeError",
     "evalue": "module 'numpy' has no attribute 'mode'",
     "output_type": "error",
     "traceback": [
      "\u001b[1;31m---------------------------------------------------------------------------\u001b[0m",
      "\u001b[1;31mAttributeError\u001b[0m                            Traceback (most recent call last)",
      "\u001b[1;32m~\\AppData\\Local\\Temp/ipykernel_5968/2723364386.py\u001b[0m in \u001b[0;36m<module>\u001b[1;34m\u001b[0m\n\u001b[1;32m----> 1\u001b[1;33m \u001b[0mnp\u001b[0m\u001b[1;33m.\u001b[0m\u001b[0mmode\u001b[0m\u001b[1;33m(\u001b[0m\u001b[0mdata_copy\u001b[0m\u001b[1;33m)\u001b[0m\u001b[1;33m\u001b[0m\u001b[1;33m\u001b[0m\u001b[0m\n\u001b[0m",
      "\u001b[1;32mC:\\ProgramData\\Anaconda3\\lib\\site-packages\\numpy\\__init__.py\u001b[0m in \u001b[0;36m__getattr__\u001b[1;34m(attr)\u001b[0m\n\u001b[0;32m    301\u001b[0m                 \u001b[1;32mreturn\u001b[0m \u001b[0mTester\u001b[0m\u001b[1;33m\u001b[0m\u001b[1;33m\u001b[0m\u001b[0m\n\u001b[0;32m    302\u001b[0m \u001b[1;33m\u001b[0m\u001b[0m\n\u001b[1;32m--> 303\u001b[1;33m             raise AttributeError(\"module {!r} has no attribute \"\n\u001b[0m\u001b[0;32m    304\u001b[0m                                  \"{!r}\".format(__name__, attr))\n\u001b[0;32m    305\u001b[0m \u001b[1;33m\u001b[0m\u001b[0m\n",
      "\u001b[1;31mAttributeError\u001b[0m: module 'numpy' has no attribute 'mode'"
     ]
    }
   ],
   "source": [
    "np.mode(data_copy)"
   ]
  },
  {
   "cell_type": "code",
   "execution_count": 29,
   "id": "05e4f746",
   "metadata": {},
   "outputs": [],
   "source": [
    "data_copy.append(29)"
   ]
  },
  {
   "cell_type": "code",
   "execution_count": 30,
   "id": "f79e81d4",
   "metadata": {},
   "outputs": [
    {
     "data": {
      "text/plain": [
       "[55, 59, 20, 36, 46, 29, 53, 65, 37, 57, 25, 29]"
      ]
     },
     "execution_count": 30,
     "metadata": {},
     "output_type": "execute_result"
    }
   ],
   "source": [
    "data_copy"
   ]
  },
  {
   "cell_type": "code",
   "execution_count": 26,
   "id": "36ea991f",
   "metadata": {},
   "outputs": [],
   "source": [
    "import statistics"
   ]
  },
  {
   "cell_type": "code",
   "execution_count": 31,
   "id": "66f61eda",
   "metadata": {},
   "outputs": [
    {
     "data": {
      "text/plain": [
       "29"
      ]
     },
     "execution_count": 31,
     "metadata": {},
     "output_type": "execute_result"
    }
   ],
   "source": [
    "statistics.mode(data_copy)"
   ]
  },
  {
   "cell_type": "code",
   "execution_count": null,
   "id": "0592e52a",
   "metadata": {},
   "outputs": [],
   "source": [
    "# you have titinic data \n",
    "\n",
    "#age\n",
    "\n",
    "#try to find out mode of the age column"
   ]
  },
  {
   "cell_type": "code",
   "execution_count": 32,
   "id": "4a61f387",
   "metadata": {},
   "outputs": [],
   "source": [
    "from scipy import stats as st"
   ]
  },
  {
   "cell_type": "code",
   "execution_count": null,
   "id": "b47aac06",
   "metadata": {},
   "outputs": [],
   "source": []
  },
  {
   "cell_type": "code",
   "execution_count": null,
   "id": "ea5eceb9",
   "metadata": {},
   "outputs": [],
   "source": []
  },
  {
   "cell_type": "code",
   "execution_count": null,
   "id": "255cb095",
   "metadata": {},
   "outputs": [],
   "source": []
  }
 ],
 "metadata": {
  "kernelspec": {
   "display_name": "Python 3 (ipykernel)",
   "language": "python",
   "name": "python3"
  },
  "language_info": {
   "codemirror_mode": {
    "name": "ipython",
    "version": 3
   },
   "file_extension": ".py",
   "mimetype": "text/x-python",
   "name": "python",
   "nbconvert_exporter": "python",
   "pygments_lexer": "ipython3",
   "version": "3.9.7"
  }
 },
 "nbformat": 4,
 "nbformat_minor": 5
}
